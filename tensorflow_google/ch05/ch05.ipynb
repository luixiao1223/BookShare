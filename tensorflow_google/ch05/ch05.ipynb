{
 "cells": [
  {
   "cell_type": "markdown",
   "metadata": {
    "ein.tags": "worksheet-0",
    "slideshow": {
     "slide_type": "-"
    }
   },
   "source": [
    "# MNIST数据处理\n",
    "\n",
    "1. MNIST 是NIST的子一个子集。\n",
    "2. 60000张图片作为训练集，10000张作为验证集。\n",
    "3. $28x28$图片\n",
    "\n",
    "## 看具体代码\n",
    "\n",
    "tensorflow 具有处理MNIST数据的程序包。具体运用如下"
   ]
  },
  {
   "cell_type": "code",
   "execution_count": null,
   "metadata": {
    "autoscroll": false,
    "collapsed": false,
    "ein.hycell": false,
    "ein.tags": "worksheet-0",
    "slideshow": {
     "slide_type": "-"
    }
   },
   "outputs": [],
   "source": [
    "from tensorflow.examples.tutorials.mnist import input_data\n",
    "\n",
    "\n",
    "# 如果对应文件夹没有数据，则会下载。\n",
    "mnist = input_data.read_data_sets(\"./data/\", one_hot=True)\n",
    "\n",
    "# 其中的one_hot参数就是说一个label中只有一个1.\n",
    "# 比如(0,0,0,1)就是one_hot，而(0,1,1,0)就不是one_hot\n",
    "\n",
    "# 打印训练数据大小\n",
    "print(\"Training data size \", mnist.train.num_examples)\n",
    "\n",
    "# 打印验证数据大小\n",
    "print(\"Validation data size \", mnist.validation.num_examples)\n",
    "\n",
    "# 打印测试数据大小\n",
    "print(\"Testing data size\", mnist.test.num_examples)\n",
    "\n",
    "# print an example training data\n",
    "print(\"An example training data:\", mnist.train.images[0])\n",
    "\n",
    "# print example training data label\n",
    "print(\"Example training data label\", mnist.train.labels[0])\n",
    "\n",
    "#可以设置取数据的batch大小\n",
    "\n",
    "batch_size = 10\n",
    "xs, ys = mnist.train.next_batch(batch_size)\n",
    "\n",
    "print(\"X Shape\", xs.shape)\n",
    "print(\"Y Shape\", ys.shape)\n"
   ]
  },
  {
   "cell_type": "markdown",
   "metadata": {
    "ein.tags": "worksheet-0",
    "slideshow": {
     "slide_type": "-"
    }
   },
   "source": [
    "# 训练代码"
   ]
  },
  {
   "cell_type": "code",
   "execution_count": null,
   "metadata": {
    "autoscroll": false,
    "collapsed": false,
    "ein.hycell": false,
    "ein.tags": "worksheet-0",
    "slideshow": {
     "slide_type": "-"
    }
   },
   "outputs": [],
   "source": []
  }
 ],
 "metadata": {
  "kernelspec": {
   "argv": [
    "python",
    "-m",
    "ipykernel_launcher",
    "-f",
    "{connection_file}"
   ],
   "display_name": "Python 3",
   "env": null,
   "interrupt_mode": "signal",
   "language": "python",
   "metadata": null,
   "name": "python3"
  },
  "name": "ch05.ipynb"
 },
 "nbformat": 4,
 "nbformat_minor": 2
}
