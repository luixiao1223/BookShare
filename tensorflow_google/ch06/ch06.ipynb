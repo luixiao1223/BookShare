{
 "cells": [
  {
   "cell_type": "markdown",
   "metadata": {
    "ein.tags": "worksheet-0",
    "slideshow": {
     "slide_type": "-"
    }
   },
   "source": [
    "# 图像识别问题介绍及经典数据集\n",
    "\n",
    "## CIFAR数据集\n",
    "\n",
    "1. CIFAR 数据集(CIFAR-10【60000张】, CIFAR-100)\n",
    "2. 大小$32\\times 32$\n",
    "3. 人工标注的正确率94%\n",
    "\n",
    "## ImageNet\n",
    "\n",
    "1. 1500W张图片\n",
    "2. ImageNet每年都会举办比赛\n",
    "3. [ImageNet](http://image-net.org/challenges/LSVRC/)"
   ]
  },
  {
   "cell_type": "markdown",
   "metadata": {
    "ein.tags": "worksheet-0",
    "slideshow": {
     "slide_type": "-"
    }
   },
   "source": [
    "# 卷积神经网络介绍\n",
    "\n",
    "1. 全连接层网络\n",
    "\n",
    "问题：参数太多\n",
    "\n",
    "2. 卷积神经网络\n",
    "\n",
    "特点：减少参数\n",
    "\n",
    "## 结构\n",
    "\n",
    "1. 输入层\n",
    "2. 卷积层\n",
    "3. 池化层\n",
    "4. 全连接层\n",
    "5. Softmax层"
   ]
  },
  {
   "cell_type": "markdown",
   "metadata": {
    "ein.tags": "worksheet-0",
    "slideshow": {
     "slide_type": "-"
    }
   },
   "source": [
    "# 卷积神经网络常用结构\n",
    "\n",
    "## 卷积层"
   ]
  },
  {
   "cell_type": "markdown",
   "metadata": {
    "ein.tags": "worksheet-0",
    "slideshow": {
     "slide_type": "-"
    }
   },
   "source": [
    "# 经典卷积网络模型"
   ]
  },
  {
   "cell_type": "markdown",
   "metadata": {
    "ein.tags": "worksheet-0",
    "slideshow": {
     "slide_type": "-"
    }
   },
   "source": [
    "# 卷积神经网络迁移学习"
   ]
  }
 ],
 "metadata": {
  "kernelspec": {
   "argv": [
    "python",
    "-m",
    "ipykernel_launcher",
    "-f",
    "{connection_file}"
   ],
   "display_name": "Python 3",
   "env": null,
   "interrupt_mode": "signal",
   "language": "python",
   "metadata": null,
   "name": "python3"
  },
  "name": "ch06.ipynb"
 },
 "nbformat": 4,
 "nbformat_minor": 2
}
